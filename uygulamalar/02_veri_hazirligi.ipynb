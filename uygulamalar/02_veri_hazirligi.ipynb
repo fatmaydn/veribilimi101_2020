{
 "cells": [
  {
   "cell_type": "markdown",
   "metadata": {},
   "source": [
    "# gerekli kütüphaneler"
   ]
  },
  {
   "cell_type": "code",
   "execution_count": 1,
   "metadata": {},
   "outputs": [],
   "source": [
    "# uyarı ayarı\n",
    "import warnings\n",
    "warnings.filterwarnings(\"ignore\")\n",
    "\n",
    "# veri işleme\n",
    "import pandas as pd\n",
    "import numpy as np\n",
    "\n",
    "# istatistik\n",
    "import scipy as sc\n",
    "import hypothetical\n",
    "import pingouin\n",
    "import statsmodels as sm\n",
    "\n",
    "# veri görselleştirme\n",
    "import matplotlib.pyplot as plt\n",
    "%matplotlib inline\n",
    "import seaborn as sns\n",
    "from IPython.display import HTML, display\n",
    "\n",
    "# kütüphane ayarları\n",
    "pd.set_option('display.max_columns', None)\n",
    "pd.set_option('display.max_colwidth', None)\n",
    "pd.set_option('display.max_rows', None)\n",
    "pd.set_option('mode.chained_assignment', None)"
   ]
  },
  {
   "cell_type": "markdown",
   "metadata": {},
   "source": [
    "# verinin çalışma ortamına alınması"
   ]
  },
  {
   "cell_type": "markdown",
   "metadata": {},
   "source": [
    "2009-2011 dönemi verileri **veri** isimli değişken olarak çalışma ortamına alınır:"
   ]
  },
  {
   "cell_type": "code",
   "execution_count": 2,
   "metadata": {},
   "outputs": [],
   "source": [
    "veri = pd.read_csv(\"dataset/online_retail_2.csv\")"
   ]
  },
  {
   "cell_type": "code",
   "execution_count": 3,
   "metadata": {},
   "outputs": [
    {
     "name": "stdout",
     "output_type": "stream",
     "text": [
      "(1067371, 8)\n"
     ]
    },
    {
     "data": {
      "text/html": [
       "<div>\n",
       "<style scoped>\n",
       "    .dataframe tbody tr th:only-of-type {\n",
       "        vertical-align: middle;\n",
       "    }\n",
       "\n",
       "    .dataframe tbody tr th {\n",
       "        vertical-align: top;\n",
       "    }\n",
       "\n",
       "    .dataframe thead th {\n",
       "        text-align: right;\n",
       "    }\n",
       "</style>\n",
       "<table border=\"1\" class=\"dataframe\">\n",
       "  <thead>\n",
       "    <tr style=\"text-align: right;\">\n",
       "      <th></th>\n",
       "      <th>Invoice</th>\n",
       "      <th>StockCode</th>\n",
       "      <th>Description</th>\n",
       "      <th>Quantity</th>\n",
       "      <th>InvoiceDate</th>\n",
       "      <th>Price</th>\n",
       "      <th>Customer ID</th>\n",
       "      <th>Country</th>\n",
       "    </tr>\n",
       "  </thead>\n",
       "  <tbody>\n",
       "    <tr>\n",
       "      <th>0</th>\n",
       "      <td>489434</td>\n",
       "      <td>85048</td>\n",
       "      <td>15CM CHRISTMAS GLASS BALL 20 LIGHTS</td>\n",
       "      <td>12</td>\n",
       "      <td>2009-12-01 07:45:00</td>\n",
       "      <td>6.95</td>\n",
       "      <td>13085.0</td>\n",
       "      <td>United Kingdom</td>\n",
       "    </tr>\n",
       "    <tr>\n",
       "      <th>1</th>\n",
       "      <td>489434</td>\n",
       "      <td>79323P</td>\n",
       "      <td>PINK CHERRY LIGHTS</td>\n",
       "      <td>12</td>\n",
       "      <td>2009-12-01 07:45:00</td>\n",
       "      <td>6.75</td>\n",
       "      <td>13085.0</td>\n",
       "      <td>United Kingdom</td>\n",
       "    </tr>\n",
       "    <tr>\n",
       "      <th>2</th>\n",
       "      <td>489434</td>\n",
       "      <td>79323W</td>\n",
       "      <td>WHITE CHERRY LIGHTS</td>\n",
       "      <td>12</td>\n",
       "      <td>2009-12-01 07:45:00</td>\n",
       "      <td>6.75</td>\n",
       "      <td>13085.0</td>\n",
       "      <td>United Kingdom</td>\n",
       "    </tr>\n",
       "    <tr>\n",
       "      <th>3</th>\n",
       "      <td>489434</td>\n",
       "      <td>22041</td>\n",
       "      <td>RECORD FRAME 7\" SINGLE SIZE</td>\n",
       "      <td>48</td>\n",
       "      <td>2009-12-01 07:45:00</td>\n",
       "      <td>2.10</td>\n",
       "      <td>13085.0</td>\n",
       "      <td>United Kingdom</td>\n",
       "    </tr>\n",
       "    <tr>\n",
       "      <th>4</th>\n",
       "      <td>489434</td>\n",
       "      <td>21232</td>\n",
       "      <td>STRAWBERRY CERAMIC TRINKET BOX</td>\n",
       "      <td>24</td>\n",
       "      <td>2009-12-01 07:45:00</td>\n",
       "      <td>1.25</td>\n",
       "      <td>13085.0</td>\n",
       "      <td>United Kingdom</td>\n",
       "    </tr>\n",
       "  </tbody>\n",
       "</table>\n",
       "</div>"
      ],
      "text/plain": [
       "  Invoice StockCode                          Description  Quantity  \\\n",
       "0  489434     85048  15CM CHRISTMAS GLASS BALL 20 LIGHTS        12   \n",
       "1  489434    79323P                   PINK CHERRY LIGHTS        12   \n",
       "2  489434    79323W                  WHITE CHERRY LIGHTS        12   \n",
       "3  489434     22041         RECORD FRAME 7\" SINGLE SIZE         48   \n",
       "4  489434     21232       STRAWBERRY CERAMIC TRINKET BOX        24   \n",
       "\n",
       "           InvoiceDate  Price  Customer ID         Country  \n",
       "0  2009-12-01 07:45:00   6.95      13085.0  United Kingdom  \n",
       "1  2009-12-01 07:45:00   6.75      13085.0  United Kingdom  \n",
       "2  2009-12-01 07:45:00   6.75      13085.0  United Kingdom  \n",
       "3  2009-12-01 07:45:00   2.10      13085.0  United Kingdom  \n",
       "4  2009-12-01 07:45:00   1.25      13085.0  United Kingdom  "
      ]
     },
     "execution_count": 3,
     "metadata": {},
     "output_type": "execute_result"
    }
   ],
   "source": [
    "print(veri.shape)\n",
    "veri.head()"
   ]
  },
  {
   "cell_type": "code",
   "execution_count": 4,
   "metadata": {},
   "outputs": [
    {
     "name": "stdout",
     "output_type": "stream",
     "text": [
      "<class 'pandas.core.frame.DataFrame'>\n",
      "RangeIndex: 1067371 entries, 0 to 1067370\n",
      "Data columns (total 8 columns):\n",
      " #   Column       Non-Null Count    Dtype  \n",
      "---  ------       --------------    -----  \n",
      " 0   Invoice      1067371 non-null  object \n",
      " 1   StockCode    1067371 non-null  object \n",
      " 2   Description  1062989 non-null  object \n",
      " 3   Quantity     1067371 non-null  int64  \n",
      " 4   InvoiceDate  1067371 non-null  object \n",
      " 5   Price        1067371 non-null  float64\n",
      " 6   Customer ID  824364 non-null   float64\n",
      " 7   Country      1067371 non-null  object \n",
      "dtypes: float64(2), int64(1), object(5)\n",
      "memory usage: 65.1+ MB\n"
     ]
    }
   ],
   "source": [
    "veri.info()"
   ]
  },
  {
   "cell_type": "markdown",
   "metadata": {},
   "source": [
    "# veri hazırlığı"
   ]
  },
  {
   "cell_type": "markdown",
   "metadata": {},
   "source": [
    "**gözlemler:**\n",
    "\n",
    "veride değişkenlerin birtakım rasyonel olmayan durumları olduğunu gözlemledik:\n",
    "\n",
    "- **değişkenler:** \n",
    "    - <font color=\"red\"> problem </font> &rarr; <font color=\"green\"> gereken aksiyon </font> <font color=\"blue\">{ neden }</font>\n",
    "- **StockCode:** \n",
    "    - <font color=\"red\"> tutarsız veri tipi </font> &rarr; <font color=\"green\"> tamsayı dönüşümü </font> <font color=\"blue\">{ veri doğru olmayan formatla kaydedilmiş }</font>   \n",
    "- **Description:** \n",
    "    - <font color=\"red\"> kayıp bilgi </font> &rarr; <font color=\"green\"> kayıtların atılması </font> <font color=\"blue\">{ kayıp frekansı düşük. analizimizi etkilemez. }</font>\n",
    "- **InvoiceDate:** \n",
    "    - <font color=\"red\"> tutarsız veri tipi </font> &rarr; <font color=\"green\"> tarih dönüşümü </font> <font color=\"blue\">{ veri doğru olmayan formatla kaydedilmiş }</font>\n",
    "- **Customer ID:** \n",
    "    - <font color=\"red\"> kayıp bilgi </font> &rarr; <font color=\"green\"> kayıtların atılması </font> <font color=\"blue\">{ kayıp frekansı düşük. analizimizi etkilemez. }</font>\n",
    "    - <font color=\"red\"> tutarsız veri tipi </font> &rarr; <font color=\"green\"> tamsayı dönüşümü </font> <font color=\"blue\">{ veri doğru olmayan formatla kaydedilmiş }</font>  "
   ]
  },
  {
   "cell_type": "markdown",
   "metadata": {},
   "source": [
    "# kayıp verilerin tanımlanması ve çözümlenmesi"
   ]
  },
  {
   "cell_type": "markdown",
   "metadata": {},
   "source": [
    "kayıp veri sorununu çözmeden önce:"
   ]
  },
  {
   "cell_type": "code",
   "execution_count": 5,
   "metadata": {},
   "outputs": [
    {
     "data": {
      "text/html": [
       "<div>\n",
       "<style scoped>\n",
       "    .dataframe tbody tr th:only-of-type {\n",
       "        vertical-align: middle;\n",
       "    }\n",
       "\n",
       "    .dataframe tbody tr th {\n",
       "        vertical-align: top;\n",
       "    }\n",
       "\n",
       "    .dataframe thead th {\n",
       "        text-align: right;\n",
       "    }\n",
       "</style>\n",
       "<table border=\"1\" class=\"dataframe\">\n",
       "  <thead>\n",
       "    <tr style=\"text-align: right;\">\n",
       "      <th></th>\n",
       "      <th>Invoice</th>\n",
       "      <th>StockCode</th>\n",
       "      <th>Description</th>\n",
       "      <th>Quantity</th>\n",
       "      <th>InvoiceDate</th>\n",
       "      <th>Price</th>\n",
       "      <th>Customer ID</th>\n",
       "      <th>Country</th>\n",
       "    </tr>\n",
       "  </thead>\n",
       "  <tbody>\n",
       "    <tr>\n",
       "      <th>NullFrequency</th>\n",
       "      <td>0.0</td>\n",
       "      <td>0.0</td>\n",
       "      <td>4382.00</td>\n",
       "      <td>0.0</td>\n",
       "      <td>0.0</td>\n",
       "      <td>0.0</td>\n",
       "      <td>243007.00</td>\n",
       "      <td>0.0</td>\n",
       "    </tr>\n",
       "    <tr>\n",
       "      <th>MissingPercent</th>\n",
       "      <td>0.0</td>\n",
       "      <td>0.0</td>\n",
       "      <td>0.41</td>\n",
       "      <td>0.0</td>\n",
       "      <td>0.0</td>\n",
       "      <td>0.0</td>\n",
       "      <td>22.77</td>\n",
       "      <td>0.0</td>\n",
       "    </tr>\n",
       "  </tbody>\n",
       "</table>\n",
       "</div>"
      ],
      "text/plain": [
       "                Invoice  StockCode  Description  Quantity  InvoiceDate  Price  \\\n",
       "NullFrequency       0.0        0.0      4382.00       0.0          0.0    0.0   \n",
       "MissingPercent      0.0        0.0         0.41       0.0          0.0    0.0   \n",
       "\n",
       "                Customer ID  Country  \n",
       "NullFrequency     243007.00      0.0  \n",
       "MissingPercent        22.77      0.0  "
      ]
     },
     "execution_count": 5,
     "metadata": {},
     "output_type": "execute_result"
    }
   ],
   "source": [
    "kayıp_veri = pd.DataFrame(index = veri.columns.values)\n",
    "kayıp_veri['NullFrequency'] = veri.isnull().sum().values\n",
    "yüzde = veri.isnull().sum().values/veri.shape[0]\n",
    "kayıp_veri['MissingPercent'] = np.round(yüzde, decimals = 4) * 100\n",
    "kayıp_veri.transpose()"
   ]
  },
  {
   "cell_type": "markdown",
   "metadata": {},
   "source": [
    "**gözlemler:**\n",
    "\n",
    "- **değişkenler:** \n",
    "    - <font color=\"red\"> problem </font> &rarr; <font color=\"green\"> gereken aksiyon </font> <font color=\"blue\">{ neden }</font>\n",
    "- **Description:**\n",
    "  - <font color=\"red\"> kayıp veri (4382)</font> &rarr; <font color=\"green\">kayıtları at</font> <font color=\"blue\">{oran çok düşük ve analizimizi etkilemez.}</font>\n",
    "- **Customer ID:**\n",
    "  - <font color=\"red\">kayıp veri (243007)</font> &rarr; <font color=\"green\">kayıtları at</font> <font color=\"blue\">{segmentasyon modelinde potansiyel bir değişken, ama modelde kayıp değer kullanamayız.}</font>"
   ]
  },
  {
   "cell_type": "markdown",
   "metadata": {},
   "source": [
    "aksiyonlar:"
   ]
  },
  {
   "cell_type": "code",
   "execution_count": 6,
   "metadata": {
    "id": "Lk2zwC3G-u6U",
    "outputId": "99f1d1f7-794c-4a8a-9c4c-a9b2c1e4f483"
   },
   "outputs": [
    {
     "name": "stdout",
     "output_type": "stream",
     "text": [
      "veri boyutu [önce]: (1067371, 8)\n",
      "veri boyutu [sonra]: (824364, 8)\n",
      "atılan oran: 23.0 %\n"
     ]
    }
   ],
   "source": [
    "önceki_veri_boyutu = veri.shape\n",
    "print('veri boyutu [önce]:', önceki_veri_boyutu)\n",
    "\n",
    "veri.dropna(axis = 0, subset = ['Description', 'Customer ID'], inplace = True)\n",
    "\n",
    "sonraki_veri_boyutu = veri.shape\n",
    "print('veri boyutu [sonra]:', sonraki_veri_boyutu)\n",
    "\n",
    "atılan_sayı  = önceki_veri_boyutu[0] - sonraki_veri_boyutu[0]\n",
    "atılan_oran  = np.round(atılan_sayı / önceki_veri_boyutu[0], decimals = 2) * 100\n",
    "print('atılan oran:', atılan_oran, '%')"
   ]
  },
  {
   "cell_type": "markdown",
   "metadata": {
    "id": "J0nbzxPz-u6Z"
   },
   "source": [
    "yaptıklarımızı doğrulayalım:"
   ]
  },
  {
   "cell_type": "code",
   "execution_count": 7,
   "metadata": {
    "id": "_y9hlkTu-u6a",
    "outputId": "9b7da9b8-1aa6-419c-be3a-6d5415b9ce62"
   },
   "outputs": [
    {
     "data": {
      "text/html": [
       "<div>\n",
       "<style scoped>\n",
       "    .dataframe tbody tr th:only-of-type {\n",
       "        vertical-align: middle;\n",
       "    }\n",
       "\n",
       "    .dataframe tbody tr th {\n",
       "        vertical-align: top;\n",
       "    }\n",
       "\n",
       "    .dataframe thead th {\n",
       "        text-align: right;\n",
       "    }\n",
       "</style>\n",
       "<table border=\"1\" class=\"dataframe\">\n",
       "  <thead>\n",
       "    <tr style=\"text-align: right;\">\n",
       "      <th></th>\n",
       "      <th>Invoice</th>\n",
       "      <th>StockCode</th>\n",
       "      <th>Description</th>\n",
       "      <th>Quantity</th>\n",
       "      <th>InvoiceDate</th>\n",
       "      <th>Price</th>\n",
       "      <th>Customer ID</th>\n",
       "      <th>Country</th>\n",
       "    </tr>\n",
       "  </thead>\n",
       "  <tbody>\n",
       "    <tr>\n",
       "      <th>NullFrequency</th>\n",
       "      <td>0.0</td>\n",
       "      <td>0.0</td>\n",
       "      <td>0.0</td>\n",
       "      <td>0.0</td>\n",
       "      <td>0.0</td>\n",
       "      <td>0.0</td>\n",
       "      <td>0.0</td>\n",
       "      <td>0.0</td>\n",
       "    </tr>\n",
       "    <tr>\n",
       "      <th>MissingPercent</th>\n",
       "      <td>0.0</td>\n",
       "      <td>0.0</td>\n",
       "      <td>0.0</td>\n",
       "      <td>0.0</td>\n",
       "      <td>0.0</td>\n",
       "      <td>0.0</td>\n",
       "      <td>0.0</td>\n",
       "      <td>0.0</td>\n",
       "    </tr>\n",
       "  </tbody>\n",
       "</table>\n",
       "</div>"
      ],
      "text/plain": [
       "                Invoice  StockCode  Description  Quantity  InvoiceDate  Price  \\\n",
       "NullFrequency       0.0        0.0          0.0       0.0          0.0    0.0   \n",
       "MissingPercent      0.0        0.0          0.0       0.0          0.0    0.0   \n",
       "\n",
       "                Customer ID  Country  \n",
       "NullFrequency           0.0      0.0  \n",
       "MissingPercent          0.0      0.0  "
      ]
     },
     "execution_count": 7,
     "metadata": {},
     "output_type": "execute_result"
    }
   ],
   "source": [
    "kayıp_veri = pd.DataFrame(index = veri.columns.values)\n",
    "kayıp_veri['NullFrequency'] = veri.isnull().sum().values\n",
    "yüzde = veri.isnull().sum().values/veri.shape[0]\n",
    "kayıp_veri['MissingPercent'] = np.round(yüzde, decimals = 4) * 100\n",
    "kayıp_veri.transpose()"
   ]
  },
  {
   "cell_type": "markdown",
   "metadata": {
    "id": "3ZoPtS68-u6i"
   },
   "source": [
    "böylece kayıp değerleri **başarılı bir şekilde eledik.**"
   ]
  },
  {
   "cell_type": "markdown",
   "metadata": {
    "id": "ztUK7nBl-u6s"
   },
   "source": [
    "# gereksiz verilerin tanımlanması ve çözümlenmesi"
   ]
  },
  {
   "cell_type": "markdown",
   "metadata": {
    "id": "ly7DYZkv-u6s"
   },
   "source": [
    "çoklayan kayıtların kontrolü:"
   ]
  },
  {
   "cell_type": "code",
   "execution_count": 8,
   "metadata": {
    "id": "kIXnzQeQ-u6u",
    "outputId": "ef38065e-2e27-475e-b92d-55558efdb46f"
   },
   "outputs": [
    {
     "name": "stdout",
     "output_type": "stream",
     "text": [
      "veride çoklayan kayıt var mı?: True\n",
      "çoklayan kayıt sayısı: 26479\n"
     ]
    }
   ],
   "source": [
    "print('veride çoklayan kayıt var mı?:', veri.duplicated().any())\n",
    "print('çoklayan kayıt sayısı:', veri.duplicated().sum())"
   ]
  },
  {
   "cell_type": "markdown",
   "metadata": {
    "id": "m3sMoxCV-u6z"
   },
   "source": [
    "**gözlemler:**\n",
    "\n",
    "- buna göre veride **26.479 çoklayan** satır **bulunuyor**.\n",
    "- bu kayıtları da analizlerimizde işe yaramayacağından **atıyoruz.** "
   ]
  },
  {
   "cell_type": "markdown",
   "metadata": {
    "id": "yTNy1JaG-u6z"
   },
   "source": [
    "aksiyonlar:"
   ]
  },
  {
   "cell_type": "code",
   "execution_count": 9,
   "metadata": {
    "id": "xlvMtbla-u60",
    "outputId": "fb596160-aae1-40fa-f323-d2f06aa6fc12"
   },
   "outputs": [
    {
     "name": "stdout",
     "output_type": "stream",
     "text": [
      "veri boyutu [önce]: (824364, 8)\n",
      "veri boyutu [sonra]: (797885, 8)\n",
      "atılan oran: 3.0 %\n"
     ]
    }
   ],
   "source": [
    "önceki_veri_boyutu = veri.shape\n",
    "print('veri boyutu [önce]:', önceki_veri_boyutu)\n",
    "\n",
    "veri.drop_duplicates(inplace = True)\n",
    "\n",
    "sonraki_veri_boyutu = veri.shape\n",
    "print('veri boyutu [sonra]:', sonraki_veri_boyutu)\n",
    "\n",
    "atılan_sayı  = önceki_veri_boyutu[0] - sonraki_veri_boyutu[0]\n",
    "atılan_oran  = np.round(atılan_sayı / önceki_veri_boyutu[0], decimals = 2) * 100\n",
    "print('atılan oran:', atılan_oran, '%')"
   ]
  },
  {
   "cell_type": "markdown",
   "metadata": {
    "id": "tWCLY8YR-u65"
   },
   "source": [
    "yaptıklarımızı doğrulayalım:"
   ]
  },
  {
   "cell_type": "code",
   "execution_count": 10,
   "metadata": {
    "id": "B-gTdIhy-u65",
    "outputId": "b135de9e-547c-4d7d-e011-ba5ee2b98446"
   },
   "outputs": [
    {
     "name": "stdout",
     "output_type": "stream",
     "text": [
      "veride çoklayan kayıt var mı?: False\n",
      "çoklayan kayıt sayısı: 0\n"
     ]
    }
   ],
   "source": [
    "print('veride çoklayan kayıt var mı?:', veri.duplicated().any())\n",
    "print('çoklayan kayıt sayısı:', veri.duplicated().sum())"
   ]
  },
  {
   "cell_type": "markdown",
   "metadata": {
    "id": "A7yTCNTy-u68"
   },
   "source": [
    "böylece çoklayan kayıtları da **başarılı bir şekilde eledik.**"
   ]
  },
  {
   "cell_type": "markdown",
   "metadata": {},
   "source": [
    "# tutarsız veri tiplerinin tanımlanması ve çözümlenmesi"
   ]
  },
  {
   "cell_type": "code",
   "execution_count": 11,
   "metadata": {
    "id": "yIaFO6Fj-u7E",
    "outputId": "ce5bf54b-2d5d-4e8e-f30b-9ef7f7816d26"
   },
   "outputs": [
    {
     "data": {
      "text/html": [
       "<div>\n",
       "<style scoped>\n",
       "    .dataframe tbody tr th:only-of-type {\n",
       "        vertical-align: middle;\n",
       "    }\n",
       "\n",
       "    .dataframe tbody tr th {\n",
       "        vertical-align: top;\n",
       "    }\n",
       "\n",
       "    .dataframe thead th {\n",
       "        text-align: right;\n",
       "    }\n",
       "</style>\n",
       "<table border=\"1\" class=\"dataframe\">\n",
       "  <thead>\n",
       "    <tr style=\"text-align: right;\">\n",
       "      <th></th>\n",
       "      <th>Invoice</th>\n",
       "      <th>StockCode</th>\n",
       "      <th>Description</th>\n",
       "      <th>Quantity</th>\n",
       "      <th>InvoiceDate</th>\n",
       "      <th>Price</th>\n",
       "      <th>Customer ID</th>\n",
       "      <th>Country</th>\n",
       "    </tr>\n",
       "  </thead>\n",
       "  <tbody>\n",
       "    <tr>\n",
       "      <th>Type</th>\n",
       "      <td>object</td>\n",
       "      <td>object</td>\n",
       "      <td>object</td>\n",
       "      <td>int64</td>\n",
       "      <td>object</td>\n",
       "      <td>float64</td>\n",
       "      <td>float64</td>\n",
       "      <td>object</td>\n",
       "    </tr>\n",
       "  </tbody>\n",
       "</table>\n",
       "</div>"
      ],
      "text/plain": [
       "     Invoice StockCode Description Quantity InvoiceDate    Price Customer ID  \\\n",
       "Type  object    object      object    int64      object  float64     float64   \n",
       "\n",
       "     Country  \n",
       "Type  object  "
      ]
     },
     "execution_count": 11,
     "metadata": {},
     "output_type": "execute_result"
    }
   ],
   "source": [
    "veri_tipleri = pd.DataFrame(data = veri.dtypes, columns = ['Type'])\n",
    "veri_tipleri.transpose()"
   ]
  },
  {
   "cell_type": "markdown",
   "metadata": {
    "id": "CBeDpP00-u7K"
   },
   "source": [
    "**gözlemler:**\n",
    "\n",
    "- **tutarsız veri:** \n",
    "    - <font color=\"red\">mevcut değişken tipi</font> &rarr; <font color = \"green\">beklenen değişken tipi</font>\n",
    "- **Invoice:**\n",
    "    - <font color=\"red\">object</font> &rarr; <font color = \"green\">integer</font>\n",
    "- **InvoiceDate:**\n",
    "    - <font color=\"red\">object</font> &rarr; <font color = \"green\">DateTime</font>\n",
    "- **Customer ID:**\n",
    "    - <font color=\"red\">float</font> &rarr; <font color = \"green\">integer</font>"
   ]
  },
  {
   "cell_type": "markdown",
   "metadata": {
    "id": "S0rLioF--u7M"
   },
   "source": [
    "aksiyonlar:"
   ]
  },
  {
   "cell_type": "code",
   "execution_count": 12,
   "metadata": {
    "id": "Gn8LLcBt-u7N"
   },
   "outputs": [],
   "source": [
    "#veri['Invoice']       = veri['Invoice'].astype(np.int64)\n",
    "veri['InvoiceDate']   = pd.to_datetime(veri['InvoiceDate'])\n",
    "veri['Customer ID']   = veri['Customer ID'].astype(np.int64)"
   ]
  },
  {
   "cell_type": "markdown",
   "metadata": {},
   "source": [
    "* InvoiceNo: Fatura numarası. Nominal. Her işleme benzersiz şekilde atanan 6 basamaklı bir sayı. Bu kod 'c' harfiyle başlıyorsa, bir iptal olduğunu gösterir."
   ]
  },
  {
   "cell_type": "code",
   "execution_count": 13,
   "metadata": {},
   "outputs": [
    {
     "data": {
      "text/html": [
       "<div>\n",
       "<style scoped>\n",
       "    .dataframe tbody tr th:only-of-type {\n",
       "        vertical-align: middle;\n",
       "    }\n",
       "\n",
       "    .dataframe tbody tr th {\n",
       "        vertical-align: top;\n",
       "    }\n",
       "\n",
       "    .dataframe thead th {\n",
       "        text-align: right;\n",
       "    }\n",
       "</style>\n",
       "<table border=\"1\" class=\"dataframe\">\n",
       "  <thead>\n",
       "    <tr style=\"text-align: right;\">\n",
       "      <th></th>\n",
       "      <th>Invoice</th>\n",
       "      <th>StockCode</th>\n",
       "      <th>Description</th>\n",
       "      <th>Quantity</th>\n",
       "      <th>InvoiceDate</th>\n",
       "      <th>Price</th>\n",
       "      <th>Customer ID</th>\n",
       "      <th>Country</th>\n",
       "    </tr>\n",
       "  </thead>\n",
       "  <tbody>\n",
       "    <tr>\n",
       "      <th>1067178</th>\n",
       "      <td>C581569</td>\n",
       "      <td>20979</td>\n",
       "      <td>36 PENCILS TUBE RED RETROSPOT</td>\n",
       "      <td>-5</td>\n",
       "      <td>2011-12-09 11:58:00</td>\n",
       "      <td>1.25</td>\n",
       "      <td>17315</td>\n",
       "      <td>United Kingdom</td>\n",
       "    </tr>\n",
       "    <tr>\n",
       "      <th>1067177</th>\n",
       "      <td>C581569</td>\n",
       "      <td>84978</td>\n",
       "      <td>HANGING HEART JAR T-LIGHT HOLDER</td>\n",
       "      <td>-1</td>\n",
       "      <td>2011-12-09 11:58:00</td>\n",
       "      <td>1.25</td>\n",
       "      <td>17315</td>\n",
       "      <td>United Kingdom</td>\n",
       "    </tr>\n",
       "    <tr>\n",
       "      <th>1067176</th>\n",
       "      <td>C581568</td>\n",
       "      <td>21258</td>\n",
       "      <td>VICTORIAN SEWING BOX LARGE</td>\n",
       "      <td>-5</td>\n",
       "      <td>2011-12-09 11:57:00</td>\n",
       "      <td>10.95</td>\n",
       "      <td>15311</td>\n",
       "      <td>United Kingdom</td>\n",
       "    </tr>\n",
       "    <tr>\n",
       "      <th>1067002</th>\n",
       "      <td>C581499</td>\n",
       "      <td>M</td>\n",
       "      <td>Manual</td>\n",
       "      <td>-1</td>\n",
       "      <td>2011-12-09 10:28:00</td>\n",
       "      <td>224.69</td>\n",
       "      <td>15498</td>\n",
       "      <td>United Kingdom</td>\n",
       "    </tr>\n",
       "    <tr>\n",
       "      <th>1065909</th>\n",
       "      <td>C581490</td>\n",
       "      <td>22178</td>\n",
       "      <td>VICTORIAN GLASS HANGING T-LIGHT</td>\n",
       "      <td>-12</td>\n",
       "      <td>2011-12-09 09:57:00</td>\n",
       "      <td>1.95</td>\n",
       "      <td>14397</td>\n",
       "      <td>United Kingdom</td>\n",
       "    </tr>\n",
       "  </tbody>\n",
       "</table>\n",
       "</div>"
      ],
      "text/plain": [
       "         Invoice StockCode                       Description  Quantity  \\\n",
       "1067178  C581569     20979     36 PENCILS TUBE RED RETROSPOT        -5   \n",
       "1067177  C581569     84978  HANGING HEART JAR T-LIGHT HOLDER        -1   \n",
       "1067176  C581568     21258        VICTORIAN SEWING BOX LARGE        -5   \n",
       "1067002  C581499         M                            Manual        -1   \n",
       "1065909  C581490     22178   VICTORIAN GLASS HANGING T-LIGHT       -12   \n",
       "\n",
       "                InvoiceDate   Price  Customer ID         Country  \n",
       "1067178 2011-12-09 11:58:00    1.25        17315  United Kingdom  \n",
       "1067177 2011-12-09 11:58:00    1.25        17315  United Kingdom  \n",
       "1067176 2011-12-09 11:57:00   10.95        15311  United Kingdom  \n",
       "1067002 2011-12-09 10:28:00  224.69        15498  United Kingdom  \n",
       "1065909 2011-12-09 09:57:00    1.95        14397  United Kingdom  "
      ]
     },
     "execution_count": 13,
     "metadata": {},
     "output_type": "execute_result"
    }
   ],
   "source": [
    "veri.sort_values(by='Invoice', ascending=False).head()"
   ]
  },
  {
   "cell_type": "code",
   "execution_count": 14,
   "metadata": {},
   "outputs": [
    {
     "name": "stdout",
     "output_type": "stream",
     "text": [
      "'C' ile başlayıp iptal edilmemiş işlem var mı? False\n",
      "'C' ile başlamayıp iptal edilmiş işlem var mı? False\n"
     ]
    }
   ],
   "source": [
    "print(\"'C' ile başlayıp iptal edilmemiş işlem var mı?\",((veri[veri['Invoice'].str.startswith(\"C\",na=False)]['Quantity']) > 0).any())\n",
    "print(\"'C' ile başlamayıp iptal edilmiş işlem var mı?\", ((veri[veri['Invoice'].str.startswith(\"C\",na=False) == False]['Quantity']) < 0).any())"
   ]
  },
  {
   "cell_type": "code",
   "execution_count": 15,
   "metadata": {},
   "outputs": [],
   "source": [
    "veri = veri[veri['Invoice'].str.startswith(\"C\",na=False) == False]\n",
    "veri['Invoice'] = veri['Invoice'].astype(np.int64)"
   ]
  },
  {
   "cell_type": "markdown",
   "metadata": {
    "id": "Aj7AullK-u7P"
   },
   "source": [
    "yaptıklarımızı kontrol edelim:"
   ]
  },
  {
   "cell_type": "code",
   "execution_count": 16,
   "metadata": {
    "id": "DO2XwDKp-u7P",
    "outputId": "cc196054-03ff-4d03-f176-593cb28e33cb"
   },
   "outputs": [
    {
     "data": {
      "text/html": [
       "<div>\n",
       "<style scoped>\n",
       "    .dataframe tbody tr th:only-of-type {\n",
       "        vertical-align: middle;\n",
       "    }\n",
       "\n",
       "    .dataframe tbody tr th {\n",
       "        vertical-align: top;\n",
       "    }\n",
       "\n",
       "    .dataframe thead th {\n",
       "        text-align: right;\n",
       "    }\n",
       "</style>\n",
       "<table border=\"1\" class=\"dataframe\">\n",
       "  <thead>\n",
       "    <tr style=\"text-align: right;\">\n",
       "      <th></th>\n",
       "      <th>Invoice</th>\n",
       "      <th>StockCode</th>\n",
       "      <th>Description</th>\n",
       "      <th>Quantity</th>\n",
       "      <th>InvoiceDate</th>\n",
       "      <th>Price</th>\n",
       "      <th>Customer ID</th>\n",
       "      <th>Country</th>\n",
       "    </tr>\n",
       "  </thead>\n",
       "  <tbody>\n",
       "    <tr>\n",
       "      <th>Type</th>\n",
       "      <td>int64</td>\n",
       "      <td>object</td>\n",
       "      <td>object</td>\n",
       "      <td>int64</td>\n",
       "      <td>datetime64[ns]</td>\n",
       "      <td>float64</td>\n",
       "      <td>int64</td>\n",
       "      <td>object</td>\n",
       "    </tr>\n",
       "  </tbody>\n",
       "</table>\n",
       "</div>"
      ],
      "text/plain": [
       "     Invoice StockCode Description Quantity     InvoiceDate    Price  \\\n",
       "Type   int64    object      object    int64  datetime64[ns]  float64   \n",
       "\n",
       "     Customer ID Country  \n",
       "Type       int64  object  "
      ]
     },
     "execution_count": 16,
     "metadata": {},
     "output_type": "execute_result"
    }
   ],
   "source": [
    "veri_tipleri = pd.DataFrame(data = veri.dtypes, columns = ['Type'])\n",
    "veri_tipleri.transpose()"
   ]
  },
  {
   "cell_type": "markdown",
   "metadata": {},
   "source": [
    "# yeni değişkenlerin oluşturulması"
   ]
  },
  {
   "cell_type": "markdown",
   "metadata": {},
   "source": [
    "toplam fiyat değişkeni:"
   ]
  },
  {
   "cell_type": "code",
   "execution_count": 17,
   "metadata": {},
   "outputs": [],
   "source": [
    "veri['TotalPrice'] = veri['Price']*veri['Quantity']"
   ]
  },
  {
   "cell_type": "markdown",
   "metadata": {},
   "source": [
    "bölge değişkeni:"
   ]
  },
  {
   "cell_type": "code",
   "execution_count": 18,
   "metadata": {},
   "outputs": [],
   "source": [
    "# ülke grupları\n",
    "avrupa_ülkeleri = ['Austria', 'Belgium', 'Cyprus', 'Czech Republic', 'Denmark',\n",
    "                   'EIRE', 'European Community', 'Finland', 'France', 'Germany',\n",
    "                   'Greece', 'Iceland','Italy', 'Lithuania', 'Malta', 'Netherlands',\n",
    "                   'Norway', 'Poland', 'Portugal', 'Spain', 'Sweden', 'Switzerland',\n",
    "                   'United Kingdom', 'Channel Islands']\n",
    "\n",
    "amerika_ülkeleri = ['Canada', 'USA', 'Brazil', 'Bermuda']\n",
    "\n",
    "asya_ülkeleri = ['Bahrain','Hong Kong', 'Japan', 'Saudi Arabia', 'Singapore', 'Thailand', 'United Arab Emirates']\n",
    "\n",
    "# ülke grupları fonksiyon\n",
    "def ülke_grubu(row):\n",
    "    global avrupa_ülkeleri\n",
    "    global amerika_ülkeleri\n",
    "    global asya_ülkeleri\n",
    "    \n",
    "    if row['Country'] in avrupa_ülkeleri:\n",
    "        return \"Europe\"\n",
    "    elif row['Country'] in amerika_ülkeleri:\n",
    "        return \"America\"\n",
    "    elif row['Country'] in asya_ülkeleri:\n",
    "        return \"Asia\"\n",
    "    else:\n",
    "        return \"Other\""
   ]
  },
  {
   "cell_type": "code",
   "execution_count": 19,
   "metadata": {},
   "outputs": [],
   "source": [
    "veri = veri.assign(CountryGroup=veri.apply(ülke_grubu, axis=1))"
   ]
  },
  {
   "cell_type": "markdown",
   "metadata": {},
   "source": [
    "son olarak veriye bakalım:"
   ]
  },
  {
   "cell_type": "code",
   "execution_count": 20,
   "metadata": {},
   "outputs": [
    {
     "name": "stdout",
     "output_type": "stream",
     "text": [
      "(779495, 10)\n"
     ]
    },
    {
     "data": {
      "text/html": [
       "<div>\n",
       "<style scoped>\n",
       "    .dataframe tbody tr th:only-of-type {\n",
       "        vertical-align: middle;\n",
       "    }\n",
       "\n",
       "    .dataframe tbody tr th {\n",
       "        vertical-align: top;\n",
       "    }\n",
       "\n",
       "    .dataframe thead th {\n",
       "        text-align: right;\n",
       "    }\n",
       "</style>\n",
       "<table border=\"1\" class=\"dataframe\">\n",
       "  <thead>\n",
       "    <tr style=\"text-align: right;\">\n",
       "      <th></th>\n",
       "      <th>Invoice</th>\n",
       "      <th>StockCode</th>\n",
       "      <th>Description</th>\n",
       "      <th>Quantity</th>\n",
       "      <th>InvoiceDate</th>\n",
       "      <th>Price</th>\n",
       "      <th>Customer ID</th>\n",
       "      <th>Country</th>\n",
       "      <th>TotalPrice</th>\n",
       "      <th>CountryGroup</th>\n",
       "    </tr>\n",
       "  </thead>\n",
       "  <tbody>\n",
       "    <tr>\n",
       "      <th>0</th>\n",
       "      <td>489434</td>\n",
       "      <td>85048</td>\n",
       "      <td>15CM CHRISTMAS GLASS BALL 20 LIGHTS</td>\n",
       "      <td>12</td>\n",
       "      <td>2009-12-01 07:45:00</td>\n",
       "      <td>6.95</td>\n",
       "      <td>13085</td>\n",
       "      <td>United Kingdom</td>\n",
       "      <td>83.4</td>\n",
       "      <td>Europe</td>\n",
       "    </tr>\n",
       "    <tr>\n",
       "      <th>1</th>\n",
       "      <td>489434</td>\n",
       "      <td>79323P</td>\n",
       "      <td>PINK CHERRY LIGHTS</td>\n",
       "      <td>12</td>\n",
       "      <td>2009-12-01 07:45:00</td>\n",
       "      <td>6.75</td>\n",
       "      <td>13085</td>\n",
       "      <td>United Kingdom</td>\n",
       "      <td>81.0</td>\n",
       "      <td>Europe</td>\n",
       "    </tr>\n",
       "    <tr>\n",
       "      <th>2</th>\n",
       "      <td>489434</td>\n",
       "      <td>79323W</td>\n",
       "      <td>WHITE CHERRY LIGHTS</td>\n",
       "      <td>12</td>\n",
       "      <td>2009-12-01 07:45:00</td>\n",
       "      <td>6.75</td>\n",
       "      <td>13085</td>\n",
       "      <td>United Kingdom</td>\n",
       "      <td>81.0</td>\n",
       "      <td>Europe</td>\n",
       "    </tr>\n",
       "    <tr>\n",
       "      <th>3</th>\n",
       "      <td>489434</td>\n",
       "      <td>22041</td>\n",
       "      <td>RECORD FRAME 7\" SINGLE SIZE</td>\n",
       "      <td>48</td>\n",
       "      <td>2009-12-01 07:45:00</td>\n",
       "      <td>2.10</td>\n",
       "      <td>13085</td>\n",
       "      <td>United Kingdom</td>\n",
       "      <td>100.8</td>\n",
       "      <td>Europe</td>\n",
       "    </tr>\n",
       "    <tr>\n",
       "      <th>4</th>\n",
       "      <td>489434</td>\n",
       "      <td>21232</td>\n",
       "      <td>STRAWBERRY CERAMIC TRINKET BOX</td>\n",
       "      <td>24</td>\n",
       "      <td>2009-12-01 07:45:00</td>\n",
       "      <td>1.25</td>\n",
       "      <td>13085</td>\n",
       "      <td>United Kingdom</td>\n",
       "      <td>30.0</td>\n",
       "      <td>Europe</td>\n",
       "    </tr>\n",
       "  </tbody>\n",
       "</table>\n",
       "</div>"
      ],
      "text/plain": [
       "   Invoice StockCode                          Description  Quantity  \\\n",
       "0   489434     85048  15CM CHRISTMAS GLASS BALL 20 LIGHTS        12   \n",
       "1   489434    79323P                   PINK CHERRY LIGHTS        12   \n",
       "2   489434    79323W                  WHITE CHERRY LIGHTS        12   \n",
       "3   489434     22041         RECORD FRAME 7\" SINGLE SIZE         48   \n",
       "4   489434     21232       STRAWBERRY CERAMIC TRINKET BOX        24   \n",
       "\n",
       "          InvoiceDate  Price  Customer ID         Country  TotalPrice  \\\n",
       "0 2009-12-01 07:45:00   6.95        13085  United Kingdom        83.4   \n",
       "1 2009-12-01 07:45:00   6.75        13085  United Kingdom        81.0   \n",
       "2 2009-12-01 07:45:00   6.75        13085  United Kingdom        81.0   \n",
       "3 2009-12-01 07:45:00   2.10        13085  United Kingdom       100.8   \n",
       "4 2009-12-01 07:45:00   1.25        13085  United Kingdom        30.0   \n",
       "\n",
       "  CountryGroup  \n",
       "0       Europe  \n",
       "1       Europe  \n",
       "2       Europe  \n",
       "3       Europe  \n",
       "4       Europe  "
      ]
     },
     "execution_count": 20,
     "metadata": {},
     "output_type": "execute_result"
    }
   ],
   "source": [
    "print(veri.shape)\n",
    "veri.head()"
   ]
  },
  {
   "cell_type": "code",
   "execution_count": 21,
   "metadata": {},
   "outputs": [
    {
     "name": "stdout",
     "output_type": "stream",
     "text": [
      "<class 'pandas.core.frame.DataFrame'>\n",
      "Int64Index: 779495 entries, 0 to 1067370\n",
      "Data columns (total 10 columns):\n",
      " #   Column        Non-Null Count   Dtype         \n",
      "---  ------        --------------   -----         \n",
      " 0   Invoice       779495 non-null  int64         \n",
      " 1   StockCode     779495 non-null  object        \n",
      " 2   Description   779495 non-null  object        \n",
      " 3   Quantity      779495 non-null  int64         \n",
      " 4   InvoiceDate   779495 non-null  datetime64[ns]\n",
      " 5   Price         779495 non-null  float64       \n",
      " 6   Customer ID   779495 non-null  int64         \n",
      " 7   Country       779495 non-null  object        \n",
      " 8   TotalPrice    779495 non-null  float64       \n",
      " 9   CountryGroup  779495 non-null  object        \n",
      "dtypes: datetime64[ns](1), float64(2), int64(3), object(4)\n",
      "memory usage: 65.4+ MB\n"
     ]
    }
   ],
   "source": [
    "veri.info()"
   ]
  },
  {
   "cell_type": "code",
   "execution_count": 22,
   "metadata": {},
   "outputs": [
    {
     "name": "stdout",
     "output_type": "stream",
     "text": [
      "minimum alışveriş tarihi: 2009-12-01 07:45:00\n",
      "minimum alışveriş tarihi: 2011-12-09 12:50:00\n"
     ]
    }
   ],
   "source": [
    "print(f\"minimum alışveriş tarihi: {veri['InvoiceDate'].min()}\")\n",
    "print(f\"minimum alışveriş tarihi: {veri['InvoiceDate'].max()}\")"
   ]
  },
  {
   "cell_type": "code",
   "execution_count": null,
   "metadata": {},
   "outputs": [],
   "source": []
  },
  {
   "cell_type": "code",
   "execution_count": null,
   "metadata": {},
   "outputs": [],
   "source": []
  },
  {
   "cell_type": "code",
   "execution_count": null,
   "metadata": {},
   "outputs": [],
   "source": []
  },
  {
   "cell_type": "code",
   "execution_count": null,
   "metadata": {},
   "outputs": [],
   "source": []
  },
  {
   "cell_type": "code",
   "execution_count": null,
   "metadata": {},
   "outputs": [],
   "source": []
  },
  {
   "cell_type": "code",
   "execution_count": null,
   "metadata": {},
   "outputs": [],
   "source": []
  },
  {
   "cell_type": "code",
   "execution_count": null,
   "metadata": {},
   "outputs": [],
   "source": []
  },
  {
   "cell_type": "code",
   "execution_count": null,
   "metadata": {},
   "outputs": [],
   "source": []
  },
  {
   "cell_type": "code",
   "execution_count": null,
   "metadata": {},
   "outputs": [],
   "source": []
  },
  {
   "cell_type": "code",
   "execution_count": null,
   "metadata": {},
   "outputs": [],
   "source": []
  },
  {
   "cell_type": "code",
   "execution_count": null,
   "metadata": {},
   "outputs": [],
   "source": []
  },
  {
   "cell_type": "code",
   "execution_count": null,
   "metadata": {},
   "outputs": [],
   "source": []
  },
  {
   "cell_type": "code",
   "execution_count": null,
   "metadata": {},
   "outputs": [],
   "source": []
  },
  {
   "cell_type": "code",
   "execution_count": null,
   "metadata": {},
   "outputs": [],
   "source": []
  },
  {
   "cell_type": "code",
   "execution_count": null,
   "metadata": {},
   "outputs": [],
   "source": []
  },
  {
   "cell_type": "code",
   "execution_count": null,
   "metadata": {},
   "outputs": [],
   "source": []
  },
  {
   "cell_type": "code",
   "execution_count": null,
   "metadata": {},
   "outputs": [],
   "source": []
  },
  {
   "cell_type": "code",
   "execution_count": null,
   "metadata": {},
   "outputs": [],
   "source": []
  },
  {
   "cell_type": "code",
   "execution_count": null,
   "metadata": {},
   "outputs": [],
   "source": []
  },
  {
   "cell_type": "code",
   "execution_count": null,
   "metadata": {},
   "outputs": [],
   "source": []
  },
  {
   "cell_type": "code",
   "execution_count": null,
   "metadata": {},
   "outputs": [],
   "source": []
  },
  {
   "cell_type": "code",
   "execution_count": null,
   "metadata": {},
   "outputs": [],
   "source": []
  },
  {
   "cell_type": "code",
   "execution_count": null,
   "metadata": {},
   "outputs": [],
   "source": []
  },
  {
   "cell_type": "code",
   "execution_count": null,
   "metadata": {},
   "outputs": [],
   "source": []
  },
  {
   "cell_type": "code",
   "execution_count": null,
   "metadata": {},
   "outputs": [],
   "source": []
  },
  {
   "cell_type": "code",
   "execution_count": null,
   "metadata": {},
   "outputs": [],
   "source": []
  },
  {
   "cell_type": "code",
   "execution_count": null,
   "metadata": {},
   "outputs": [],
   "source": []
  },
  {
   "cell_type": "code",
   "execution_count": null,
   "metadata": {},
   "outputs": [],
   "source": []
  },
  {
   "cell_type": "code",
   "execution_count": null,
   "metadata": {},
   "outputs": [],
   "source": []
  },
  {
   "cell_type": "code",
   "execution_count": null,
   "metadata": {},
   "outputs": [],
   "source": []
  },
  {
   "cell_type": "code",
   "execution_count": null,
   "metadata": {},
   "outputs": [],
   "source": []
  },
  {
   "cell_type": "code",
   "execution_count": null,
   "metadata": {},
   "outputs": [],
   "source": []
  },
  {
   "cell_type": "code",
   "execution_count": null,
   "metadata": {},
   "outputs": [],
   "source": []
  },
  {
   "cell_type": "code",
   "execution_count": null,
   "metadata": {},
   "outputs": [],
   "source": []
  },
  {
   "cell_type": "code",
   "execution_count": null,
   "metadata": {},
   "outputs": [],
   "source": []
  },
  {
   "cell_type": "code",
   "execution_count": null,
   "metadata": {},
   "outputs": [],
   "source": []
  },
  {
   "cell_type": "code",
   "execution_count": null,
   "metadata": {},
   "outputs": [],
   "source": []
  },
  {
   "cell_type": "code",
   "execution_count": null,
   "metadata": {},
   "outputs": [],
   "source": []
  },
  {
   "cell_type": "code",
   "execution_count": null,
   "metadata": {},
   "outputs": [],
   "source": []
  },
  {
   "cell_type": "code",
   "execution_count": null,
   "metadata": {},
   "outputs": [],
   "source": []
  },
  {
   "cell_type": "code",
   "execution_count": null,
   "metadata": {},
   "outputs": [],
   "source": []
  },
  {
   "cell_type": "code",
   "execution_count": null,
   "metadata": {},
   "outputs": [],
   "source": []
  },
  {
   "cell_type": "code",
   "execution_count": null,
   "metadata": {},
   "outputs": [],
   "source": []
  },
  {
   "cell_type": "code",
   "execution_count": null,
   "metadata": {},
   "outputs": [],
   "source": []
  },
  {
   "cell_type": "code",
   "execution_count": null,
   "metadata": {},
   "outputs": [],
   "source": []
  },
  {
   "cell_type": "code",
   "execution_count": null,
   "metadata": {},
   "outputs": [],
   "source": []
  },
  {
   "cell_type": "code",
   "execution_count": null,
   "metadata": {},
   "outputs": [],
   "source": []
  },
  {
   "cell_type": "code",
   "execution_count": null,
   "metadata": {},
   "outputs": [],
   "source": []
  },
  {
   "cell_type": "code",
   "execution_count": null,
   "metadata": {},
   "outputs": [],
   "source": []
  },
  {
   "cell_type": "code",
   "execution_count": null,
   "metadata": {},
   "outputs": [],
   "source": []
  },
  {
   "cell_type": "code",
   "execution_count": null,
   "metadata": {},
   "outputs": [],
   "source": []
  },
  {
   "cell_type": "code",
   "execution_count": null,
   "metadata": {},
   "outputs": [],
   "source": []
  },
  {
   "cell_type": "code",
   "execution_count": null,
   "metadata": {},
   "outputs": [],
   "source": []
  },
  {
   "cell_type": "code",
   "execution_count": null,
   "metadata": {},
   "outputs": [],
   "source": []
  },
  {
   "cell_type": "code",
   "execution_count": null,
   "metadata": {},
   "outputs": [],
   "source": []
  },
  {
   "cell_type": "code",
   "execution_count": null,
   "metadata": {},
   "outputs": [],
   "source": []
  },
  {
   "cell_type": "code",
   "execution_count": null,
   "metadata": {},
   "outputs": [],
   "source": []
  },
  {
   "cell_type": "code",
   "execution_count": null,
   "metadata": {},
   "outputs": [],
   "source": []
  },
  {
   "cell_type": "code",
   "execution_count": null,
   "metadata": {},
   "outputs": [],
   "source": []
  },
  {
   "cell_type": "code",
   "execution_count": null,
   "metadata": {},
   "outputs": [],
   "source": []
  },
  {
   "cell_type": "code",
   "execution_count": null,
   "metadata": {},
   "outputs": [],
   "source": []
  },
  {
   "cell_type": "code",
   "execution_count": null,
   "metadata": {},
   "outputs": [],
   "source": []
  },
  {
   "cell_type": "code",
   "execution_count": null,
   "metadata": {},
   "outputs": [],
   "source": []
  },
  {
   "cell_type": "code",
   "execution_count": null,
   "metadata": {},
   "outputs": [],
   "source": []
  },
  {
   "cell_type": "code",
   "execution_count": null,
   "metadata": {},
   "outputs": [],
   "source": []
  },
  {
   "cell_type": "code",
   "execution_count": null,
   "metadata": {},
   "outputs": [],
   "source": []
  },
  {
   "cell_type": "code",
   "execution_count": null,
   "metadata": {},
   "outputs": [],
   "source": []
  },
  {
   "cell_type": "code",
   "execution_count": null,
   "metadata": {},
   "outputs": [],
   "source": []
  },
  {
   "cell_type": "code",
   "execution_count": null,
   "metadata": {},
   "outputs": [],
   "source": []
  },
  {
   "cell_type": "code",
   "execution_count": null,
   "metadata": {},
   "outputs": [],
   "source": []
  },
  {
   "cell_type": "code",
   "execution_count": null,
   "metadata": {},
   "outputs": [],
   "source": []
  },
  {
   "cell_type": "code",
   "execution_count": null,
   "metadata": {},
   "outputs": [],
   "source": []
  },
  {
   "cell_type": "code",
   "execution_count": null,
   "metadata": {},
   "outputs": [],
   "source": []
  },
  {
   "cell_type": "code",
   "execution_count": null,
   "metadata": {},
   "outputs": [],
   "source": []
  },
  {
   "cell_type": "code",
   "execution_count": null,
   "metadata": {},
   "outputs": [],
   "source": []
  },
  {
   "cell_type": "code",
   "execution_count": null,
   "metadata": {},
   "outputs": [],
   "source": []
  },
  {
   "cell_type": "code",
   "execution_count": null,
   "metadata": {},
   "outputs": [],
   "source": []
  },
  {
   "cell_type": "code",
   "execution_count": null,
   "metadata": {},
   "outputs": [],
   "source": []
  },
  {
   "cell_type": "code",
   "execution_count": null,
   "metadata": {},
   "outputs": [],
   "source": []
  },
  {
   "cell_type": "code",
   "execution_count": null,
   "metadata": {},
   "outputs": [],
   "source": []
  },
  {
   "cell_type": "code",
   "execution_count": null,
   "metadata": {},
   "outputs": [],
   "source": []
  },
  {
   "cell_type": "code",
   "execution_count": null,
   "metadata": {},
   "outputs": [],
   "source": []
  },
  {
   "cell_type": "code",
   "execution_count": null,
   "metadata": {},
   "outputs": [],
   "source": []
  },
  {
   "cell_type": "code",
   "execution_count": null,
   "metadata": {},
   "outputs": [],
   "source": []
  },
  {
   "cell_type": "code",
   "execution_count": null,
   "metadata": {},
   "outputs": [],
   "source": []
  },
  {
   "cell_type": "code",
   "execution_count": null,
   "metadata": {},
   "outputs": [],
   "source": []
  },
  {
   "cell_type": "code",
   "execution_count": null,
   "metadata": {},
   "outputs": [],
   "source": []
  },
  {
   "cell_type": "code",
   "execution_count": null,
   "metadata": {},
   "outputs": [],
   "source": []
  },
  {
   "cell_type": "code",
   "execution_count": null,
   "metadata": {},
   "outputs": [],
   "source": []
  },
  {
   "cell_type": "code",
   "execution_count": null,
   "metadata": {},
   "outputs": [],
   "source": []
  },
  {
   "cell_type": "code",
   "execution_count": null,
   "metadata": {},
   "outputs": [],
   "source": []
  },
  {
   "cell_type": "code",
   "execution_count": null,
   "metadata": {},
   "outputs": [],
   "source": []
  },
  {
   "cell_type": "code",
   "execution_count": null,
   "metadata": {},
   "outputs": [],
   "source": []
  },
  {
   "cell_type": "code",
   "execution_count": null,
   "metadata": {},
   "outputs": [],
   "source": []
  },
  {
   "cell_type": "code",
   "execution_count": null,
   "metadata": {},
   "outputs": [],
   "source": []
  },
  {
   "cell_type": "code",
   "execution_count": null,
   "metadata": {},
   "outputs": [],
   "source": []
  },
  {
   "cell_type": "code",
   "execution_count": null,
   "metadata": {},
   "outputs": [],
   "source": []
  },
  {
   "cell_type": "code",
   "execution_count": null,
   "metadata": {},
   "outputs": [],
   "source": []
  },
  {
   "cell_type": "code",
   "execution_count": null,
   "metadata": {},
   "outputs": [],
   "source": []
  },
  {
   "cell_type": "code",
   "execution_count": null,
   "metadata": {},
   "outputs": [],
   "source": []
  },
  {
   "cell_type": "code",
   "execution_count": null,
   "metadata": {},
   "outputs": [],
   "source": []
  },
  {
   "cell_type": "code",
   "execution_count": null,
   "metadata": {},
   "outputs": [],
   "source": []
  },
  {
   "cell_type": "code",
   "execution_count": null,
   "metadata": {},
   "outputs": [],
   "source": []
  }
 ],
 "metadata": {
  "kernelspec": {
   "display_name": "Python 3",
   "language": "python",
   "name": "python3"
  },
  "language_info": {
   "codemirror_mode": {
    "name": "ipython",
    "version": 3
   },
   "file_extension": ".py",
   "mimetype": "text/x-python",
   "name": "python",
   "nbconvert_exporter": "python",
   "pygments_lexer": "ipython3",
   "version": "3.7.1"
  }
 },
 "nbformat": 4,
 "nbformat_minor": 4
}
